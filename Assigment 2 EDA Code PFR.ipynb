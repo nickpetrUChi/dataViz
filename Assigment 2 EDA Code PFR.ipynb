{
 "cells": [
  {
   "cell_type": "code",
   "execution_count": 50,
   "metadata": {},
   "outputs": [],
   "source": [
    "import numpy as np\n",
    "import pandas as pd\n",
    "import matplotlib.pyplot as plt\n",
    "import seaborn as sns\n",
    "from pandas.plotting import scatter_matrix\n",
    "import plotly.graph_objects as go\n",
    "from sklearn import preprocessing"
   ]
  },
  {
   "cell_type": "markdown",
   "metadata": {},
   "source": [
    "## Data Import and preparation"
   ]
  },
  {
   "cell_type": "code",
   "execution_count": 15,
   "metadata": {},
   "outputs": [],
   "source": [
    "### Import Data"
   ]
  },
  {
   "cell_type": "code",
   "execution_count": 25,
   "metadata": {},
   "outputs": [],
   "source": [
    "df_Aba_Vac = pd.read_csv(\"G:/My Drive/Documents 1/MScA 32007/Assigments/Assigment 2/Vacant_and_Abandoned.csv\")"
   ]
  },
  {
   "cell_type": "code",
   "execution_count": 26,
   "metadata": {},
   "outputs": [
    {
     "data": {
      "text/html": [
       "<div>\n",
       "<style scoped>\n",
       "    .dataframe tbody tr th:only-of-type {\n",
       "        vertical-align: middle;\n",
       "    }\n",
       "\n",
       "    .dataframe tbody tr th {\n",
       "        vertical-align: top;\n",
       "    }\n",
       "\n",
       "    .dataframe thead th {\n",
       "        text-align: right;\n",
       "    }\n",
       "</style>\n",
       "<table border=\"1\" class=\"dataframe\">\n",
       "  <thead>\n",
       "    <tr style=\"text-align: right;\">\n",
       "      <th></th>\n",
       "      <th>SERVICE REQUEST TYPE</th>\n",
       "      <th>SERVICE REQUEST NUMBER</th>\n",
       "      <th>DATE SERVICE REQUEST WAS RECEIVED</th>\n",
       "      <th>LOCATION OF BUILDING ON THE LOT (IF GARAGE, CHANGE TYPE CODE TO BGD).</th>\n",
       "      <th>IS THE BUILDING DANGEROUS OR HAZARDOUS?</th>\n",
       "      <th>IS BUILDING OPEN OR BOARDED?</th>\n",
       "      <th>IF THE BUILDING IS OPEN, WHERE IS THE ENTRY POINT?</th>\n",
       "      <th>IS THE BUILDING CURRENTLY VACANT OR OCCUPIED?</th>\n",
       "      <th>IS THE BUILDING VACANT DUE TO FIRE?</th>\n",
       "      <th>ANY PEOPLE USING PROPERTY? (HOMELESS, CHILDEN, GANGS)</th>\n",
       "      <th>...</th>\n",
       "      <th>ADDRESS STREET SUFFIX</th>\n",
       "      <th>ZIP CODE</th>\n",
       "      <th>X COORDINATE</th>\n",
       "      <th>Y COORDINATE</th>\n",
       "      <th>Ward</th>\n",
       "      <th>Police District</th>\n",
       "      <th>Community Area</th>\n",
       "      <th>LATITUDE</th>\n",
       "      <th>LONGITUDE</th>\n",
       "      <th>Location</th>\n",
       "    </tr>\n",
       "  </thead>\n",
       "  <tbody>\n",
       "    <tr>\n",
       "      <th>0</th>\n",
       "      <td>Vacant/Abandoned Building</td>\n",
       "      <td>17-06828959</td>\n",
       "      <td>10/11/2017</td>\n",
       "      <td>Front</td>\n",
       "      <td>NaN</td>\n",
       "      <td>Open</td>\n",
       "      <td>NaN</td>\n",
       "      <td>Vacant</td>\n",
       "      <td>False</td>\n",
       "      <td>False</td>\n",
       "      <td>...</td>\n",
       "      <td>ST</td>\n",
       "      <td>60620.0</td>\n",
       "      <td>1168783.112</td>\n",
       "      <td>1853478.039</td>\n",
       "      <td>17.0</td>\n",
       "      <td>6.0</td>\n",
       "      <td>71.0</td>\n",
       "      <td>41.753463</td>\n",
       "      <td>-87.657041</td>\n",
       "      <td>(41.753462703929, -87.657041377513)</td>\n",
       "    </tr>\n",
       "    <tr>\n",
       "      <th>1</th>\n",
       "      <td>Vacant/Abandoned Building</td>\n",
       "      <td>17-06827096</td>\n",
       "      <td>10/11/2017</td>\n",
       "      <td>Front</td>\n",
       "      <td>NaN</td>\n",
       "      <td>Open</td>\n",
       "      <td>FRONT DOOR</td>\n",
       "      <td>Vacant</td>\n",
       "      <td>False</td>\n",
       "      <td>False</td>\n",
       "      <td>...</td>\n",
       "      <td>AVE</td>\n",
       "      <td>60637.0</td>\n",
       "      <td>1181040.994</td>\n",
       "      <td>1861211.870</td>\n",
       "      <td>20.0</td>\n",
       "      <td>3.0</td>\n",
       "      <td>42.0</td>\n",
       "      <td>41.774412</td>\n",
       "      <td>-87.611883</td>\n",
       "      <td>(41.774411948175, -87.611883311021)</td>\n",
       "    </tr>\n",
       "    <tr>\n",
       "      <th>2</th>\n",
       "      <td>Vacant/Abandoned Building</td>\n",
       "      <td>17-06818719</td>\n",
       "      <td>10/11/2017</td>\n",
       "      <td>NaN</td>\n",
       "      <td>NaN</td>\n",
       "      <td>NaN</td>\n",
       "      <td>NaN</td>\n",
       "      <td>NaN</td>\n",
       "      <td>NaN</td>\n",
       "      <td>NaN</td>\n",
       "      <td>...</td>\n",
       "      <td>PL</td>\n",
       "      <td>60628.0</td>\n",
       "      <td>1176047.454</td>\n",
       "      <td>1834969.668</td>\n",
       "      <td>34.0</td>\n",
       "      <td>5.0</td>\n",
       "      <td>49.0</td>\n",
       "      <td>41.702514</td>\n",
       "      <td>-87.630974</td>\n",
       "      <td>(41.702513512066, -87.630973750337)</td>\n",
       "    </tr>\n",
       "    <tr>\n",
       "      <th>3</th>\n",
       "      <td>Vacant/Abandoned Building</td>\n",
       "      <td>17-06824436</td>\n",
       "      <td>10/11/2017</td>\n",
       "      <td>Rear</td>\n",
       "      <td>NaN</td>\n",
       "      <td>Open</td>\n",
       "      <td>SIDE DOOR</td>\n",
       "      <td>Vacant</td>\n",
       "      <td>True</td>\n",
       "      <td>True</td>\n",
       "      <td>...</td>\n",
       "      <td>AVE</td>\n",
       "      <td>60621.0</td>\n",
       "      <td>1172283.019</td>\n",
       "      <td>1866776.318</td>\n",
       "      <td>20.0</td>\n",
       "      <td>7.0</td>\n",
       "      <td>68.0</td>\n",
       "      <td>41.789879</td>\n",
       "      <td>-87.643825</td>\n",
       "      <td>(41.789878552302, -87.643824817919)</td>\n",
       "    </tr>\n",
       "    <tr>\n",
       "      <th>4</th>\n",
       "      <td>Vacant/Abandoned Building</td>\n",
       "      <td>17-06826684</td>\n",
       "      <td>10/11/2017</td>\n",
       "      <td>Front</td>\n",
       "      <td>NaN</td>\n",
       "      <td>Open</td>\n",
       "      <td>FRONT DOOR</td>\n",
       "      <td>Vacant</td>\n",
       "      <td>False</td>\n",
       "      <td>True</td>\n",
       "      <td>...</td>\n",
       "      <td>ST</td>\n",
       "      <td>60628.0</td>\n",
       "      <td>1175546.130</td>\n",
       "      <td>1841922.444</td>\n",
       "      <td>21.0</td>\n",
       "      <td>5.0</td>\n",
       "      <td>49.0</td>\n",
       "      <td>41.721604</td>\n",
       "      <td>-87.632602</td>\n",
       "      <td>(41.721604113589, -87.63260226787)</td>\n",
       "    </tr>\n",
       "  </tbody>\n",
       "</table>\n",
       "<p>5 rows × 23 columns</p>\n",
       "</div>"
      ],
      "text/plain": [
       "        SERVICE REQUEST TYPE SERVICE REQUEST NUMBER  \\\n",
       "0  Vacant/Abandoned Building            17-06828959   \n",
       "1  Vacant/Abandoned Building            17-06827096   \n",
       "2  Vacant/Abandoned Building            17-06818719   \n",
       "3  Vacant/Abandoned Building            17-06824436   \n",
       "4  Vacant/Abandoned Building            17-06826684   \n",
       "\n",
       "  DATE SERVICE REQUEST WAS RECEIVED  \\\n",
       "0                        10/11/2017   \n",
       "1                        10/11/2017   \n",
       "2                        10/11/2017   \n",
       "3                        10/11/2017   \n",
       "4                        10/11/2017   \n",
       "\n",
       "  LOCATION OF BUILDING ON THE LOT (IF GARAGE, CHANGE TYPE CODE TO BGD).  \\\n",
       "0                                              Front                      \n",
       "1                                              Front                      \n",
       "2                                                NaN                      \n",
       "3                                               Rear                      \n",
       "4                                              Front                      \n",
       "\n",
       "   IS THE BUILDING DANGEROUS OR HAZARDOUS? IS BUILDING OPEN OR BOARDED?  \\\n",
       "0                                      NaN                         Open   \n",
       "1                                      NaN                         Open   \n",
       "2                                      NaN                          NaN   \n",
       "3                                      NaN                         Open   \n",
       "4                                      NaN                         Open   \n",
       "\n",
       "  IF THE BUILDING IS OPEN, WHERE IS THE ENTRY POINT?  \\\n",
       "0                                                NaN   \n",
       "1                                         FRONT DOOR   \n",
       "2                                                NaN   \n",
       "3                                          SIDE DOOR   \n",
       "4                                         FRONT DOOR   \n",
       "\n",
       "  IS THE BUILDING CURRENTLY VACANT OR OCCUPIED?  \\\n",
       "0                                        Vacant   \n",
       "1                                        Vacant   \n",
       "2                                           NaN   \n",
       "3                                        Vacant   \n",
       "4                                        Vacant   \n",
       "\n",
       "  IS THE BUILDING VACANT DUE TO FIRE?  \\\n",
       "0                               False   \n",
       "1                               False   \n",
       "2                                 NaN   \n",
       "3                                True   \n",
       "4                               False   \n",
       "\n",
       "  ANY PEOPLE USING PROPERTY? (HOMELESS, CHILDEN, GANGS)  ...  \\\n",
       "0                                              False     ...   \n",
       "1                                              False     ...   \n",
       "2                                                NaN     ...   \n",
       "3                                               True     ...   \n",
       "4                                               True     ...   \n",
       "\n",
       "   ADDRESS STREET SUFFIX ZIP CODE X COORDINATE Y COORDINATE  Ward  \\\n",
       "0                     ST  60620.0  1168783.112  1853478.039  17.0   \n",
       "1                    AVE  60637.0  1181040.994  1861211.870  20.0   \n",
       "2                     PL  60628.0  1176047.454  1834969.668  34.0   \n",
       "3                    AVE  60621.0  1172283.019  1866776.318  20.0   \n",
       "4                     ST  60628.0  1175546.130  1841922.444  21.0   \n",
       "\n",
       "   Police District  Community Area   LATITUDE  LONGITUDE  \\\n",
       "0              6.0            71.0  41.753463 -87.657041   \n",
       "1              3.0            42.0  41.774412 -87.611883   \n",
       "2              5.0            49.0  41.702514 -87.630974   \n",
       "3              7.0            68.0  41.789879 -87.643825   \n",
       "4              5.0            49.0  41.721604 -87.632602   \n",
       "\n",
       "                              Location  \n",
       "0  (41.753462703929, -87.657041377513)  \n",
       "1  (41.774411948175, -87.611883311021)  \n",
       "2  (41.702513512066, -87.630973750337)  \n",
       "3  (41.789878552302, -87.643824817919)  \n",
       "4   (41.721604113589, -87.63260226787)  \n",
       "\n",
       "[5 rows x 23 columns]"
      ]
     },
     "execution_count": 26,
     "metadata": {},
     "output_type": "execute_result"
    }
   ],
   "source": [
    "df_Aba_Vac.head()"
   ]
  },
  {
   "cell_type": "code",
   "execution_count": 16,
   "metadata": {},
   "outputs": [],
   "source": [
    "# Data Preparation: Selecting 5 Primary Values and cleaning"
   ]
  },
  {
   "cell_type": "code",
   "execution_count": 12,
   "metadata": {},
   "outputs": [
    {
     "name": "stdout",
     "output_type": "stream",
     "text": [
      "<class 'pandas.core.frame.DataFrame'>\n",
      "RangeIndex: 65119 entries, 0 to 65118\n",
      "Data columns (total 23 columns):\n",
      " #   Column                                                                 Non-Null Count  Dtype  \n",
      "---  ------                                                                 --------------  -----  \n",
      " 0   SERVICE REQUEST TYPE                                                   65119 non-null  object \n",
      " 1   SERVICE REQUEST NUMBER                                                 65119 non-null  object \n",
      " 2   DATE SERVICE REQUEST WAS RECEIVED                                      65119 non-null  object \n",
      " 3   LOCATION OF BUILDING ON THE LOT (IF GARAGE, CHANGE TYPE CODE TO BGD).  56345 non-null  object \n",
      " 4   IS THE BUILDING DANGEROUS OR HAZARDOUS?                                0 non-null      float64\n",
      " 5   IS BUILDING OPEN OR BOARDED?                                           56863 non-null  object \n",
      " 6   IF THE BUILDING IS OPEN, WHERE IS THE ENTRY POINT?                     34362 non-null  object \n",
      " 7   IS THE BUILDING CURRENTLY VACANT OR OCCUPIED?                          56871 non-null  object \n",
      " 8   IS THE BUILDING VACANT DUE TO FIRE?                                    55999 non-null  object \n",
      " 9   ANY PEOPLE USING PROPERTY? (HOMELESS, CHILDEN, GANGS)                  56571 non-null  object \n",
      " 10  ADDRESS STREET NUMBER                                                  65118 non-null  float64\n",
      " 11  ADDRESS STREET DIRECTION                                               65117 non-null  object \n",
      " 12  ADDRESS STREET NAME                                                    65118 non-null  object \n",
      " 13  ADDRESS STREET SUFFIX                                                  64797 non-null  object \n",
      " 14  ZIP CODE                                                               64695 non-null  float64\n",
      " 15  X COORDINATE                                                           65082 non-null  float64\n",
      " 16  Y COORDINATE                                                           65082 non-null  float64\n",
      " 17  Ward                                                                   65078 non-null  float64\n",
      " 18  Police District                                                        65078 non-null  float64\n",
      " 19  Community Area                                                         65078 non-null  float64\n",
      " 20  LATITUDE                                                               65073 non-null  float64\n",
      " 21  LONGITUDE                                                              65073 non-null  float64\n",
      " 22  Location                                                               65073 non-null  object \n",
      "dtypes: float64(10), object(13)\n",
      "memory usage: 11.4+ MB\n"
     ]
    }
   ],
   "source": [
    "df_Aba_Vac.info()"
   ]
  },
  {
   "cell_type": "code",
   "execution_count": 14,
   "metadata": {},
   "outputs": [
    {
     "data": {
      "text/plain": [
       "SERVICE REQUEST TYPE                                                       0.000000\n",
       "SERVICE REQUEST NUMBER                                                     0.000000\n",
       "DATE SERVICE REQUEST WAS RECEIVED                                          0.000000\n",
       "LOCATION OF BUILDING ON THE LOT (IF GARAGE, CHANGE TYPE CODE TO BGD).     13.473794\n",
       "IS THE BUILDING DANGEROUS OR HAZARDOUS?                                  100.000000\n",
       "IS BUILDING OPEN OR BOARDED?                                              12.678327\n",
       "IF THE BUILDING IS OPEN, WHERE IS THE ENTRY POINT?                        47.231991\n",
       "IS THE BUILDING CURRENTLY VACANT OR OCCUPIED?                             12.666042\n",
       "IS THE BUILDING VACANT DUE TO FIRE?                                       14.005129\n",
       "ANY PEOPLE USING PROPERTY? (HOMELESS, CHILDEN, GANGS)                     13.126737\n",
       "ADDRESS STREET NUMBER                                                      0.001536\n",
       "ADDRESS STREET DIRECTION                                                   0.003071\n",
       "ADDRESS STREET NAME                                                        0.001536\n",
       "ADDRESS STREET SUFFIX                                                      0.494479\n",
       "ZIP CODE                                                                   0.651116\n",
       "X COORDINATE                                                               0.056819\n",
       "Y COORDINATE                                                               0.056819\n",
       "Ward                                                                       0.062962\n",
       "Police District                                                            0.062962\n",
       "Community Area                                                             0.062962\n",
       "LATITUDE                                                                   0.070640\n",
       "LONGITUDE                                                                  0.070640\n",
       "Location                                                                   0.070640\n",
       "dtype: float64"
      ]
     },
     "execution_count": 14,
     "metadata": {},
     "output_type": "execute_result"
    }
   ],
   "source": [
    "num_missing = df_Aba_Vac.isnull().sum()\n",
    "num_missing/len(df_Aba_Vac)*100"
   ]
  },
  {
   "cell_type": "code",
   "execution_count": null,
   "metadata": {},
   "outputs": [],
   "source": [
    "## Changing Null Values to 'Unknown' from Orimary 5"
   ]
  },
  {
   "cell_type": "code",
   "execution_count": 19,
   "metadata": {},
   "outputs": [
    {
     "data": {
      "text/html": [
       "<div>\n",
       "<style scoped>\n",
       "    .dataframe tbody tr th:only-of-type {\n",
       "        vertical-align: middle;\n",
       "    }\n",
       "\n",
       "    .dataframe tbody tr th {\n",
       "        vertical-align: top;\n",
       "    }\n",
       "\n",
       "    .dataframe thead th {\n",
       "        text-align: right;\n",
       "    }\n",
       "</style>\n",
       "<table border=\"1\" class=\"dataframe\">\n",
       "  <thead>\n",
       "    <tr style=\"text-align: right;\">\n",
       "      <th></th>\n",
       "      <th>SERVICE REQUEST TYPE</th>\n",
       "      <th>SERVICE REQUEST NUMBER</th>\n",
       "      <th>DATE SERVICE REQUEST WAS RECEIVED</th>\n",
       "      <th>LOCATION OF BUILDING ON THE LOT (IF GARAGE, CHANGE TYPE CODE TO BGD).</th>\n",
       "      <th>IS THE BUILDING DANGEROUS OR HAZARDOUS?</th>\n",
       "      <th>IS BUILDING OPEN OR BOARDED?</th>\n",
       "      <th>IF THE BUILDING IS OPEN, WHERE IS THE ENTRY POINT?</th>\n",
       "      <th>IS THE BUILDING CURRENTLY VACANT OR OCCUPIED?</th>\n",
       "      <th>IS THE BUILDING VACANT DUE TO FIRE?</th>\n",
       "      <th>ANY PEOPLE USING PROPERTY? (HOMELESS, CHILDEN, GANGS)</th>\n",
       "      <th>...</th>\n",
       "      <th>ADDRESS STREET SUFFIX</th>\n",
       "      <th>ZIP CODE</th>\n",
       "      <th>X COORDINATE</th>\n",
       "      <th>Y COORDINATE</th>\n",
       "      <th>Ward</th>\n",
       "      <th>Police District</th>\n",
       "      <th>Community Area</th>\n",
       "      <th>LATITUDE</th>\n",
       "      <th>LONGITUDE</th>\n",
       "      <th>Location</th>\n",
       "    </tr>\n",
       "  </thead>\n",
       "  <tbody>\n",
       "    <tr>\n",
       "      <th>0</th>\n",
       "      <td>Vacant/Abandoned Building</td>\n",
       "      <td>17-06828959</td>\n",
       "      <td>10/11/2017</td>\n",
       "      <td>Front</td>\n",
       "      <td>NaN</td>\n",
       "      <td>Open</td>\n",
       "      <td>NaN</td>\n",
       "      <td>Vacant</td>\n",
       "      <td>False</td>\n",
       "      <td>False</td>\n",
       "      <td>...</td>\n",
       "      <td>ST</td>\n",
       "      <td>60620.0</td>\n",
       "      <td>1168783.112</td>\n",
       "      <td>1853478.039</td>\n",
       "      <td>17.0</td>\n",
       "      <td>6.0</td>\n",
       "      <td>71.0</td>\n",
       "      <td>41.753463</td>\n",
       "      <td>-87.657041</td>\n",
       "      <td>(41.753462703929, -87.657041377513)</td>\n",
       "    </tr>\n",
       "    <tr>\n",
       "      <th>1</th>\n",
       "      <td>Vacant/Abandoned Building</td>\n",
       "      <td>17-06827096</td>\n",
       "      <td>10/11/2017</td>\n",
       "      <td>Front</td>\n",
       "      <td>NaN</td>\n",
       "      <td>Open</td>\n",
       "      <td>FRONT DOOR</td>\n",
       "      <td>Vacant</td>\n",
       "      <td>False</td>\n",
       "      <td>False</td>\n",
       "      <td>...</td>\n",
       "      <td>AVE</td>\n",
       "      <td>60637.0</td>\n",
       "      <td>1181040.994</td>\n",
       "      <td>1861211.870</td>\n",
       "      <td>20.0</td>\n",
       "      <td>3.0</td>\n",
       "      <td>42.0</td>\n",
       "      <td>41.774412</td>\n",
       "      <td>-87.611883</td>\n",
       "      <td>(41.774411948175, -87.611883311021)</td>\n",
       "    </tr>\n",
       "    <tr>\n",
       "      <th>2</th>\n",
       "      <td>Vacant/Abandoned Building</td>\n",
       "      <td>17-06818719</td>\n",
       "      <td>10/11/2017</td>\n",
       "      <td>NaN</td>\n",
       "      <td>NaN</td>\n",
       "      <td>Unknown</td>\n",
       "      <td>NaN</td>\n",
       "      <td>Unknown</td>\n",
       "      <td>Unknown</td>\n",
       "      <td>Unknown</td>\n",
       "      <td>...</td>\n",
       "      <td>PL</td>\n",
       "      <td>60628.0</td>\n",
       "      <td>1176047.454</td>\n",
       "      <td>1834969.668</td>\n",
       "      <td>34.0</td>\n",
       "      <td>5.0</td>\n",
       "      <td>49.0</td>\n",
       "      <td>41.702514</td>\n",
       "      <td>-87.630974</td>\n",
       "      <td>(41.702513512066, -87.630973750337)</td>\n",
       "    </tr>\n",
       "    <tr>\n",
       "      <th>3</th>\n",
       "      <td>Vacant/Abandoned Building</td>\n",
       "      <td>17-06824436</td>\n",
       "      <td>10/11/2017</td>\n",
       "      <td>Rear</td>\n",
       "      <td>NaN</td>\n",
       "      <td>Open</td>\n",
       "      <td>SIDE DOOR</td>\n",
       "      <td>Vacant</td>\n",
       "      <td>True</td>\n",
       "      <td>True</td>\n",
       "      <td>...</td>\n",
       "      <td>AVE</td>\n",
       "      <td>60621.0</td>\n",
       "      <td>1172283.019</td>\n",
       "      <td>1866776.318</td>\n",
       "      <td>20.0</td>\n",
       "      <td>7.0</td>\n",
       "      <td>68.0</td>\n",
       "      <td>41.789879</td>\n",
       "      <td>-87.643825</td>\n",
       "      <td>(41.789878552302, -87.643824817919)</td>\n",
       "    </tr>\n",
       "    <tr>\n",
       "      <th>4</th>\n",
       "      <td>Vacant/Abandoned Building</td>\n",
       "      <td>17-06826684</td>\n",
       "      <td>10/11/2017</td>\n",
       "      <td>Front</td>\n",
       "      <td>NaN</td>\n",
       "      <td>Open</td>\n",
       "      <td>FRONT DOOR</td>\n",
       "      <td>Vacant</td>\n",
       "      <td>False</td>\n",
       "      <td>True</td>\n",
       "      <td>...</td>\n",
       "      <td>ST</td>\n",
       "      <td>60628.0</td>\n",
       "      <td>1175546.130</td>\n",
       "      <td>1841922.444</td>\n",
       "      <td>21.0</td>\n",
       "      <td>5.0</td>\n",
       "      <td>49.0</td>\n",
       "      <td>41.721604</td>\n",
       "      <td>-87.632602</td>\n",
       "      <td>(41.721604113589, -87.63260226787)</td>\n",
       "    </tr>\n",
       "  </tbody>\n",
       "</table>\n",
       "<p>5 rows × 23 columns</p>\n",
       "</div>"
      ],
      "text/plain": [
       "        SERVICE REQUEST TYPE SERVICE REQUEST NUMBER  \\\n",
       "0  Vacant/Abandoned Building            17-06828959   \n",
       "1  Vacant/Abandoned Building            17-06827096   \n",
       "2  Vacant/Abandoned Building            17-06818719   \n",
       "3  Vacant/Abandoned Building            17-06824436   \n",
       "4  Vacant/Abandoned Building            17-06826684   \n",
       "\n",
       "  DATE SERVICE REQUEST WAS RECEIVED  \\\n",
       "0                        10/11/2017   \n",
       "1                        10/11/2017   \n",
       "2                        10/11/2017   \n",
       "3                        10/11/2017   \n",
       "4                        10/11/2017   \n",
       "\n",
       "  LOCATION OF BUILDING ON THE LOT (IF GARAGE, CHANGE TYPE CODE TO BGD).  \\\n",
       "0                                              Front                      \n",
       "1                                              Front                      \n",
       "2                                                NaN                      \n",
       "3                                               Rear                      \n",
       "4                                              Front                      \n",
       "\n",
       "   IS THE BUILDING DANGEROUS OR HAZARDOUS? IS BUILDING OPEN OR BOARDED?  \\\n",
       "0                                      NaN                         Open   \n",
       "1                                      NaN                         Open   \n",
       "2                                      NaN                      Unknown   \n",
       "3                                      NaN                         Open   \n",
       "4                                      NaN                         Open   \n",
       "\n",
       "  IF THE BUILDING IS OPEN, WHERE IS THE ENTRY POINT?  \\\n",
       "0                                                NaN   \n",
       "1                                         FRONT DOOR   \n",
       "2                                                NaN   \n",
       "3                                          SIDE DOOR   \n",
       "4                                         FRONT DOOR   \n",
       "\n",
       "  IS THE BUILDING CURRENTLY VACANT OR OCCUPIED?  \\\n",
       "0                                        Vacant   \n",
       "1                                        Vacant   \n",
       "2                                       Unknown   \n",
       "3                                        Vacant   \n",
       "4                                        Vacant   \n",
       "\n",
       "  IS THE BUILDING VACANT DUE TO FIRE?  \\\n",
       "0                               False   \n",
       "1                               False   \n",
       "2                             Unknown   \n",
       "3                                True   \n",
       "4                               False   \n",
       "\n",
       "  ANY PEOPLE USING PROPERTY? (HOMELESS, CHILDEN, GANGS)  ...  \\\n",
       "0                                              False     ...   \n",
       "1                                              False     ...   \n",
       "2                                            Unknown     ...   \n",
       "3                                               True     ...   \n",
       "4                                               True     ...   \n",
       "\n",
       "   ADDRESS STREET SUFFIX ZIP CODE X COORDINATE Y COORDINATE  Ward  \\\n",
       "0                     ST  60620.0  1168783.112  1853478.039  17.0   \n",
       "1                    AVE  60637.0  1181040.994  1861211.870  20.0   \n",
       "2                     PL  60628.0  1176047.454  1834969.668  34.0   \n",
       "3                    AVE  60621.0  1172283.019  1866776.318  20.0   \n",
       "4                     ST  60628.0  1175546.130  1841922.444  21.0   \n",
       "\n",
       "   Police District  Community Area   LATITUDE  LONGITUDE  \\\n",
       "0              6.0            71.0  41.753463 -87.657041   \n",
       "1              3.0            42.0  41.774412 -87.611883   \n",
       "2              5.0            49.0  41.702514 -87.630974   \n",
       "3              7.0            68.0  41.789879 -87.643825   \n",
       "4              5.0            49.0  41.721604 -87.632602   \n",
       "\n",
       "                              Location  \n",
       "0  (41.753462703929, -87.657041377513)  \n",
       "1  (41.774411948175, -87.611883311021)  \n",
       "2  (41.702513512066, -87.630973750337)  \n",
       "3  (41.789878552302, -87.643824817919)  \n",
       "4   (41.721604113589, -87.63260226787)  \n",
       "\n",
       "[5 rows x 23 columns]"
      ]
     },
     "execution_count": 19,
     "metadata": {},
     "output_type": "execute_result"
    }
   ],
   "source": [
    "df_Aba_Vac['IS BUILDING OPEN OR BOARDED?'] = df_Aba_Vac['IS BUILDING OPEN OR BOARDED?'].fillna('Unknown')\n",
    "df_Aba_Vac['IS THE BUILDING CURRENTLY VACANT OR OCCUPIED?'] = df_Aba_Vac['IS THE BUILDING CURRENTLY VACANT OR OCCUPIED?'].fillna('Unknown')\n",
    "df_Aba_Vac['IS THE BUILDING VACANT DUE TO FIRE?'] = df_Aba_Vac['IS THE BUILDING VACANT DUE TO FIRE?'].fillna('Unknown')\n",
    "df_Aba_Vac['ANY PEOPLE USING PROPERTY? (HOMELESS, CHILDEN, GANGS)'] = df_Aba_Vac['ANY PEOPLE USING PROPERTY? (HOMELESS, CHILDEN, GANGS)'].fillna('Unknown')\n",
    "df_Aba_Vac.head()"
   ]
  },
  {
   "cell_type": "code",
   "execution_count": null,
   "metadata": {},
   "outputs": [],
   "source": [
    "## Changing Date of service to actual Date attribute"
   ]
  },
  {
   "cell_type": "code",
   "execution_count": 28,
   "metadata": {},
   "outputs": [],
   "source": [
    "df_Aba_Vac['DATE SERVICE REQUEST WAS RECEIVED'] = pd.to_datetime(df_Aba_Vac['DATE SERVICE REQUEST WAS RECEIVED'])"
   ]
  },
  {
   "cell_type": "markdown",
   "metadata": {},
   "source": [
    "## EDA"
   ]
  },
  {
   "cell_type": "code",
   "execution_count": 23,
   "metadata": {},
   "outputs": [],
   "source": [
    "## Looking into Building details based of Primary 5 attributes"
   ]
  },
  {
   "cell_type": "code",
   "execution_count": 69,
   "metadata": {},
   "outputs": [
    {
     "data": {
      "image/png": "[encoded data removed]",
      "text/plain": [
       "<Figure size 432x288 with 1 Axes>"
      ]
     },
     "metadata": {
      "needs_background": "light"
     },
     "output_type": "display_data"
    }
   ],
   "source": [
    "df_Aba_Vac['IS BUILDING OPEN OR BOARDED?'].value_counts().plot(kind='bar', color = '#06b1c4')\n",
    "plt.title(\"Building Access Status\")\n",
    "plt.ylabel('Number of records')\n",
    "plt.xlabel('Status');"
   ]
  },
  {
   "cell_type": "code",
   "execution_count": 53,
   "metadata": {},
   "outputs": [
    {
     "data": {
      "image/png": "[encoded data removed]",
      "text/plain": [
       "<Figure size 1080x360 with 1 Axes>"
      ]
     },
     "metadata": {
      "needs_background": "light"
     },
     "output_type": "display_data"
    }
   ],
   "source": [
    "df_Aba_Vac['ANY PEOPLE USING PROPERTY? (HOMELESS, CHILDEN, GANGS)'].value_counts().nlargest(10).plot(kind='bar', figsize=(15,5))\n",
    "plt.title(\"Building Occupancy Status\");"
   ]
  },
  {
   "cell_type": "code",
   "execution_count": 33,
   "metadata": {},
   "outputs": [
    {
     "data": {
      "image/png": "[encoded data removed]",
      "text/plain": [
       "<Figure size 432x288 with 1 Axes>"
      ]
     },
     "metadata": {
      "needs_background": "light"
     },
     "output_type": "display_data"
    }
   ],
   "source": [
    "x = df_Aba_Vac['DATE SERVICE REQUEST WAS RECEIVED']\n",
    "y = df_Aba_Vac['ANY PEOPLE USING PROPERTY? (HOMELESS, CHILDEN, GANGS)']\n",
    "\n",
    "ax = plt.subplot(111)\n",
    "ax.bar(x, y, width=10)\n",
    "ax.xaxis_date()\n",
    "\n",
    "plt.show()"
   ]
  },
  {
   "cell_type": "code",
   "execution_count": 68,
   "metadata": {},
   "outputs": [
    {
     "data": {
      "image/png": "[encoded data removed]",
      "text/plain": [
       "<Figure size 1080x360 with 1 Axes>"
      ]
     },
     "metadata": {
      "needs_background": "light"
     },
     "output_type": "display_data"
    }
   ],
   "source": [
    "df_Aba_Vac['IS THE BUILDING VACANT DUE TO FIRE?'].value_counts().nlargest(10).plot(kind='bar', figsize=(15,5), color = '#06b1c4')\n",
    "plt.title(\"Building Occupancy Status: Vacancy due to Fire\");"
   ]
  },
  {
   "cell_type": "code",
   "execution_count": 73,
   "metadata": {},
   "outputs": [
    {
     "data": {
      "image/png": "[encoded data removed]",
      "text/plain": [
       "<Figure size 576x576 with 1 Axes>"
      ]
     },
     "metadata": {},
     "output_type": "display_data"
    }
   ],
   "source": [
    "df_Aba_Vac['ANY PEOPLE USING PROPERTY? (HOMELESS, CHILDEN, GANGS)'].value_counts().plot.pie(explode=[0.05, 0.05], shadow=False, figsize=(8,8),)\n",
    "plt.title('ANY PEOPLE USING PROPERTY? (HOMELESS, CHILDEN, GANGS)')\n",
    "plt.show()"
   ]
  },
  {
   "cell_type": "code",
   "execution_count": 65,
   "metadata": {},
   "outputs": [
    {
     "data": {
      "image/png": "[encoded data removed]",
      "text/plain": [
       "<Figure size 1080x360 with 1 Axes>"
      ]
     },
     "metadata": {
      "needs_background": "light"
     },
     "output_type": "display_data"
    }
   ],
   "source": [
    "df_Aba_Vac['IS THE BUILDING CURRENTLY VACANT OR OCCUPIED?'].value_counts().nlargest(10).plot(kind='bar', figsize=(15,5) ,color = '#06b1c4')\n",
    "plt.title(\"Building Occupancy Status\")\n",
    "plt.ylabel('Count')\n",
    "plt.xlabel('Status');"
   ]
  },
  {
   "cell_type": "code",
   "execution_count": 63,
   "metadata": {},
   "outputs": [
    {
     "data": {
      "image/png": "[encoded data removed]",
      "text/plain": [
       "<Figure size 1080x360 with 1 Axes>"
      ]
     },
     "metadata": {
      "needs_background": "light"
     },
     "output_type": "display_data"
    }
   ],
   "source": [
    "df_Aba_Vac['IS THE BUILDING VACANT DUE TO FIRE?'].value_counts().nlargest(10).plot(kind='bar', figsize=(15,5), color = '#06b1c4')\n",
    "plt.title(\"Number of companies by sector\")\n",
    "plt.ylabel('Number of companies')\n",
    "plt.xlabel('Sector');"
   ]
  },
  {
   "cell_type": "code",
   "execution_count": 62,
   "metadata": {},
   "outputs": [
    {
     "data": {
      "image/png": "[encoded data removed]",
      "text/plain": [
       "<Figure size 1080x360 with 1 Axes>"
      ]
     },
     "metadata": {
      "needs_background": "light"
     },
     "output_type": "display_data"
    }
   ],
   "source": [
    "df_Aba_Vac['Police District'].value_counts().nlargest(10).plot(kind='bar', figsize=(15,5), color = '#06b1c4')\n",
    "plt.title(\"Number of Buildings by Police District\");"
   ]
  },
  {
   "cell_type": "code",
   "execution_count": 58,
   "metadata": {},
   "outputs": [
    {
     "data": {
      "image/png": "[encoded data removed]",
      "text/plain": [
       "<Figure size 1080x360 with 1 Axes>"
      ]
     },
     "metadata": {
      "needs_background": "light"
     },
     "output_type": "display_data"
    }
   ],
   "source": [
    "df_Aba_Vac['Community Area'].value_counts().nlargest(10).plot(kind='bar', figsize=(15,5))\n",
    "plt.title(\"Number of Building by Community Area\");"
   ]
  },
  {
   "cell_type": "code",
   "execution_count": 45,
   "metadata": {},
   "outputs": [
    {
     "data": {
      "text/plain": [
       "<AxesSubplot:>"
      ]
     },
     "execution_count": 45,
     "metadata": {},
     "output_type": "execute_result"
    },
    {
     "data": {
      "image/png": "[encoded data removed]",
      "text/plain": [
       "<Figure size 432x288 with 2 Axes>"
      ]
     },
     "metadata": {
      "needs_background": "light"
     },
     "output_type": "display_data"
    }
   ],
   "source": [
    "corr = df_Aba_Vac.corr()\n",
    "# plot the heatmap\n",
    "sns.heatmap(corr, \n",
    "        xticklabels=corr.columns,\n",
    "        yticklabels=corr.columns)"
   ]
  },
  {
   "cell_type": "code",
   "execution_count": null,
   "metadata": {},
   "outputs": [],
   "source": []
  }
 ],
 "metadata": {
  "kernelspec": {
   "display_name": "Python 3",
   "language": "python",
   "name": "python3"
  },
  "language_info": {
   "codemirror_mode": {
    "name": "ipython",
    "version": 3
   },
   "file_extension": ".py",
   "mimetype": "text/x-python",
   "name": "python",
   "nbconvert_exporter": "python",
   "pygments_lexer": "ipython3",
   "version": "3.8.5"
  }
 },
 "nbformat": 4,
 "nbformat_minor": 4
}
